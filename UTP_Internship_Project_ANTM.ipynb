{
  "cells": [
    {
      "cell_type": "markdown",
      "metadata": {
        "id": "view-in-github",
        "colab_type": "text"
      },
      "source": [
        "<a href=\"https://colab.research.google.com/github/Yuniarayu25/Project/blob/main/UTP_Internship_Project_ANTM.ipynb\" target=\"_parent\"><img src=\"https://colab.research.google.com/assets/colab-badge.svg\" alt=\"Open In Colab\"/></a>"
      ]
    },
    {
      "cell_type": "code",
      "execution_count": 3,
      "metadata": {
        "id": "jd_pwBM8Q0TT"
      },
      "outputs": [],
      "source": [
        "import numpy as np\n",
        "import pandas as pd\n",
        "import math\n",
        "import sklearn\n",
        "import sklearn.preprocessing\n",
        "import datetime\n",
        "import os\n",
        "import matplotlib.pyplot as plt\n",
        "import tensorflow as tf"
      ]
    },
    {
      "cell_type": "code",
      "source": [
        "# split data in 80%/10%/10% train/validation/test sets\n",
        "valid_set_size_percentage = 10\n",
        "test_set_size_percentage = 10"
      ],
      "metadata": {
        "id": "JYXP80Q48I6v"
      },
      "execution_count": 59,
      "outputs": []
    },
    {
      "cell_type": "code",
      "source": [
        "#display parent directory and working directory\n",
        "print(os.path.dirname(os.getcwd())+':', os.listdir(os.path.dirname(os.getcwd())));\n",
        "print(os.getcwd()+':', os.listdir(os.getcwd()));"
      ],
      "metadata": {
        "colab": {
          "base_uri": "https://localhost:8080/"
        },
        "id": "3mVlbsGQ8LBj",
        "outputId": "05465696-e32d-4cf3-d28b-7626f0b9b140"
      },
      "execution_count": 60,
      "outputs": [
        {
          "output_type": "stream",
          "name": "stdout",
          "text": [
            "/: ['etc', 'home', 'media', 'sbin', 'root', 'srv', 'opt', 'sys', 'lib32', 'mnt', 'run', 'lib', 'bin', 'libx32', 'boot', 'usr', 'lib64', 'dev', 'var', 'tmp', 'proc', 'content', '.dockerenv', 'tools', 'datalab', 'python-apt', 'NGC-DL-CONTAINER-LICENSE', 'cuda-keyring_1.0-1_all.deb']\n",
            "/content: ['.config', 'data_preprocessing.py', 'ANTM.JK.csv', 'LSTM EAS.ipynb', '.ipynb_checkpoints', 'sample_data']\n"
          ]
        }
      ]
    },
    {
      "cell_type": "code",
      "source": [
        "df = pd.read_csv('ANTM.JK.csv', index_col = 0)\n",
        "df.info()\n",
        "df.head()\n",
        "df.tail()"
      ],
      "metadata": {
        "colab": {
          "base_uri": "https://localhost:8080/",
          "height": 463
        },
        "id": "fHeTOsv44NO3",
        "outputId": "cf334fa8-3ffc-420c-dc5b-3eaaefd912f5"
      },
      "execution_count": 96,
      "outputs": [
        {
          "output_type": "stream",
          "name": "stdout",
          "text": [
            "<class 'pandas.core.frame.DataFrame'>\n",
            "Index: 61 entries, 2019-01-01 to 2023-12-22\n",
            "Data columns (total 6 columns):\n",
            " #   Column     Non-Null Count  Dtype  \n",
            "---  ------     --------------  -----  \n",
            " 0   Open       61 non-null     float64\n",
            " 1   High       61 non-null     float64\n",
            " 2   Low        61 non-null     float64\n",
            " 3   Close      61 non-null     float64\n",
            " 4   Adj Close  61 non-null     float64\n",
            " 5   Volume     61 non-null     int64  \n",
            "dtypes: float64(5), int64(1)\n",
            "memory usage: 3.3+ KB\n"
          ]
        },
        {
          "output_type": "execute_result",
          "data": {
            "text/plain": [
              "              Open    High     Low   Close  Adj Close     Volume\n",
              "Date                                                            \n",
              "2023-09-01  1925.0  1980.0  1815.0  1815.0     1815.0  742988000\n",
              "2023-10-01  1815.0  1860.0  1705.0  1705.0     1705.0  692990400\n",
              "2023-11-01  1705.0  1740.0  1580.0  1740.0     1740.0  734210600\n",
              "2023-12-01  1710.0  1810.0  1590.0  1635.0     1635.0  579231200\n",
              "2023-12-22  1640.0  1665.0  1640.0  1665.0     1665.0   24415400"
            ],
            "text/html": [
              "\n",
              "  <div id=\"df-7abf13f6-cec6-4d53-b243-0c2a7905d4dc\" class=\"colab-df-container\">\n",
              "    <div>\n",
              "<style scoped>\n",
              "    .dataframe tbody tr th:only-of-type {\n",
              "        vertical-align: middle;\n",
              "    }\n",
              "\n",
              "    .dataframe tbody tr th {\n",
              "        vertical-align: top;\n",
              "    }\n",
              "\n",
              "    .dataframe thead th {\n",
              "        text-align: right;\n",
              "    }\n",
              "</style>\n",
              "<table border=\"1\" class=\"dataframe\">\n",
              "  <thead>\n",
              "    <tr style=\"text-align: right;\">\n",
              "      <th></th>\n",
              "      <th>Open</th>\n",
              "      <th>High</th>\n",
              "      <th>Low</th>\n",
              "      <th>Close</th>\n",
              "      <th>Adj Close</th>\n",
              "      <th>Volume</th>\n",
              "    </tr>\n",
              "    <tr>\n",
              "      <th>Date</th>\n",
              "      <th></th>\n",
              "      <th></th>\n",
              "      <th></th>\n",
              "      <th></th>\n",
              "      <th></th>\n",
              "      <th></th>\n",
              "    </tr>\n",
              "  </thead>\n",
              "  <tbody>\n",
              "    <tr>\n",
              "      <th>2023-09-01</th>\n",
              "      <td>1925.0</td>\n",
              "      <td>1980.0</td>\n",
              "      <td>1815.0</td>\n",
              "      <td>1815.0</td>\n",
              "      <td>1815.0</td>\n",
              "      <td>742988000</td>\n",
              "    </tr>\n",
              "    <tr>\n",
              "      <th>2023-10-01</th>\n",
              "      <td>1815.0</td>\n",
              "      <td>1860.0</td>\n",
              "      <td>1705.0</td>\n",
              "      <td>1705.0</td>\n",
              "      <td>1705.0</td>\n",
              "      <td>692990400</td>\n",
              "    </tr>\n",
              "    <tr>\n",
              "      <th>2023-11-01</th>\n",
              "      <td>1705.0</td>\n",
              "      <td>1740.0</td>\n",
              "      <td>1580.0</td>\n",
              "      <td>1740.0</td>\n",
              "      <td>1740.0</td>\n",
              "      <td>734210600</td>\n",
              "    </tr>\n",
              "    <tr>\n",
              "      <th>2023-12-01</th>\n",
              "      <td>1710.0</td>\n",
              "      <td>1810.0</td>\n",
              "      <td>1590.0</td>\n",
              "      <td>1635.0</td>\n",
              "      <td>1635.0</td>\n",
              "      <td>579231200</td>\n",
              "    </tr>\n",
              "    <tr>\n",
              "      <th>2023-12-22</th>\n",
              "      <td>1640.0</td>\n",
              "      <td>1665.0</td>\n",
              "      <td>1640.0</td>\n",
              "      <td>1665.0</td>\n",
              "      <td>1665.0</td>\n",
              "      <td>24415400</td>\n",
              "    </tr>\n",
              "  </tbody>\n",
              "</table>\n",
              "</div>\n",
              "    <div class=\"colab-df-buttons\">\n",
              "\n",
              "  <div class=\"colab-df-container\">\n",
              "    <button class=\"colab-df-convert\" onclick=\"convertToInteractive('df-7abf13f6-cec6-4d53-b243-0c2a7905d4dc')\"\n",
              "            title=\"Convert this dataframe to an interactive table.\"\n",
              "            style=\"display:none;\">\n",
              "\n",
              "  <svg xmlns=\"http://www.w3.org/2000/svg\" height=\"24px\" viewBox=\"0 -960 960 960\">\n",
              "    <path d=\"M120-120v-720h720v720H120Zm60-500h600v-160H180v160Zm220 220h160v-160H400v160Zm0 220h160v-160H400v160ZM180-400h160v-160H180v160Zm440 0h160v-160H620v160ZM180-180h160v-160H180v160Zm440 0h160v-160H620v160Z\"/>\n",
              "  </svg>\n",
              "    </button>\n",
              "\n",
              "  <style>\n",
              "    .colab-df-container {\n",
              "      display:flex;\n",
              "      gap: 12px;\n",
              "    }\n",
              "\n",
              "    .colab-df-convert {\n",
              "      background-color: #E8F0FE;\n",
              "      border: none;\n",
              "      border-radius: 50%;\n",
              "      cursor: pointer;\n",
              "      display: none;\n",
              "      fill: #1967D2;\n",
              "      height: 32px;\n",
              "      padding: 0 0 0 0;\n",
              "      width: 32px;\n",
              "    }\n",
              "\n",
              "    .colab-df-convert:hover {\n",
              "      background-color: #E2EBFA;\n",
              "      box-shadow: 0px 1px 2px rgba(60, 64, 67, 0.3), 0px 1px 3px 1px rgba(60, 64, 67, 0.15);\n",
              "      fill: #174EA6;\n",
              "    }\n",
              "\n",
              "    .colab-df-buttons div {\n",
              "      margin-bottom: 4px;\n",
              "    }\n",
              "\n",
              "    [theme=dark] .colab-df-convert {\n",
              "      background-color: #3B4455;\n",
              "      fill: #D2E3FC;\n",
              "    }\n",
              "\n",
              "    [theme=dark] .colab-df-convert:hover {\n",
              "      background-color: #434B5C;\n",
              "      box-shadow: 0px 1px 3px 1px rgba(0, 0, 0, 0.15);\n",
              "      filter: drop-shadow(0px 1px 2px rgba(0, 0, 0, 0.3));\n",
              "      fill: #FFFFFF;\n",
              "    }\n",
              "  </style>\n",
              "\n",
              "    <script>\n",
              "      const buttonEl =\n",
              "        document.querySelector('#df-7abf13f6-cec6-4d53-b243-0c2a7905d4dc button.colab-df-convert');\n",
              "      buttonEl.style.display =\n",
              "        google.colab.kernel.accessAllowed ? 'block' : 'none';\n",
              "\n",
              "      async function convertToInteractive(key) {\n",
              "        const element = document.querySelector('#df-7abf13f6-cec6-4d53-b243-0c2a7905d4dc');\n",
              "        const dataTable =\n",
              "          await google.colab.kernel.invokeFunction('convertToInteractive',\n",
              "                                                    [key], {});\n",
              "        if (!dataTable) return;\n",
              "\n",
              "        const docLinkHtml = 'Like what you see? Visit the ' +\n",
              "          '<a target=\"_blank\" href=https://colab.research.google.com/notebooks/data_table.ipynb>data table notebook</a>'\n",
              "          + ' to learn more about interactive tables.';\n",
              "        element.innerHTML = '';\n",
              "        dataTable['output_type'] = 'display_data';\n",
              "        await google.colab.output.renderOutput(dataTable, element);\n",
              "        const docLink = document.createElement('div');\n",
              "        docLink.innerHTML = docLinkHtml;\n",
              "        element.appendChild(docLink);\n",
              "      }\n",
              "    </script>\n",
              "  </div>\n",
              "\n",
              "\n",
              "<div id=\"df-de9fc8f6-0612-4f10-ba17-74f2691da83c\">\n",
              "  <button class=\"colab-df-quickchart\" onclick=\"quickchart('df-de9fc8f6-0612-4f10-ba17-74f2691da83c')\"\n",
              "            title=\"Suggest charts\"\n",
              "            style=\"display:none;\">\n",
              "\n",
              "<svg xmlns=\"http://www.w3.org/2000/svg\" height=\"24px\"viewBox=\"0 0 24 24\"\n",
              "     width=\"24px\">\n",
              "    <g>\n",
              "        <path d=\"M19 3H5c-1.1 0-2 .9-2 2v14c0 1.1.9 2 2 2h14c1.1 0 2-.9 2-2V5c0-1.1-.9-2-2-2zM9 17H7v-7h2v7zm4 0h-2V7h2v10zm4 0h-2v-4h2v4z\"/>\n",
              "    </g>\n",
              "</svg>\n",
              "  </button>\n",
              "\n",
              "<style>\n",
              "  .colab-df-quickchart {\n",
              "      --bg-color: #E8F0FE;\n",
              "      --fill-color: #1967D2;\n",
              "      --hover-bg-color: #E2EBFA;\n",
              "      --hover-fill-color: #174EA6;\n",
              "      --disabled-fill-color: #AAA;\n",
              "      --disabled-bg-color: #DDD;\n",
              "  }\n",
              "\n",
              "  [theme=dark] .colab-df-quickchart {\n",
              "      --bg-color: #3B4455;\n",
              "      --fill-color: #D2E3FC;\n",
              "      --hover-bg-color: #434B5C;\n",
              "      --hover-fill-color: #FFFFFF;\n",
              "      --disabled-bg-color: #3B4455;\n",
              "      --disabled-fill-color: #666;\n",
              "  }\n",
              "\n",
              "  .colab-df-quickchart {\n",
              "    background-color: var(--bg-color);\n",
              "    border: none;\n",
              "    border-radius: 50%;\n",
              "    cursor: pointer;\n",
              "    display: none;\n",
              "    fill: var(--fill-color);\n",
              "    height: 32px;\n",
              "    padding: 0;\n",
              "    width: 32px;\n",
              "  }\n",
              "\n",
              "  .colab-df-quickchart:hover {\n",
              "    background-color: var(--hover-bg-color);\n",
              "    box-shadow: 0 1px 2px rgba(60, 64, 67, 0.3), 0 1px 3px 1px rgba(60, 64, 67, 0.15);\n",
              "    fill: var(--button-hover-fill-color);\n",
              "  }\n",
              "\n",
              "  .colab-df-quickchart-complete:disabled,\n",
              "  .colab-df-quickchart-complete:disabled:hover {\n",
              "    background-color: var(--disabled-bg-color);\n",
              "    fill: var(--disabled-fill-color);\n",
              "    box-shadow: none;\n",
              "  }\n",
              "\n",
              "  .colab-df-spinner {\n",
              "    border: 2px solid var(--fill-color);\n",
              "    border-color: transparent;\n",
              "    border-bottom-color: var(--fill-color);\n",
              "    animation:\n",
              "      spin 1s steps(1) infinite;\n",
              "  }\n",
              "\n",
              "  @keyframes spin {\n",
              "    0% {\n",
              "      border-color: transparent;\n",
              "      border-bottom-color: var(--fill-color);\n",
              "      border-left-color: var(--fill-color);\n",
              "    }\n",
              "    20% {\n",
              "      border-color: transparent;\n",
              "      border-left-color: var(--fill-color);\n",
              "      border-top-color: var(--fill-color);\n",
              "    }\n",
              "    30% {\n",
              "      border-color: transparent;\n",
              "      border-left-color: var(--fill-color);\n",
              "      border-top-color: var(--fill-color);\n",
              "      border-right-color: var(--fill-color);\n",
              "    }\n",
              "    40% {\n",
              "      border-color: transparent;\n",
              "      border-right-color: var(--fill-color);\n",
              "      border-top-color: var(--fill-color);\n",
              "    }\n",
              "    60% {\n",
              "      border-color: transparent;\n",
              "      border-right-color: var(--fill-color);\n",
              "    }\n",
              "    80% {\n",
              "      border-color: transparent;\n",
              "      border-right-color: var(--fill-color);\n",
              "      border-bottom-color: var(--fill-color);\n",
              "    }\n",
              "    90% {\n",
              "      border-color: transparent;\n",
              "      border-bottom-color: var(--fill-color);\n",
              "    }\n",
              "  }\n",
              "</style>\n",
              "\n",
              "  <script>\n",
              "    async function quickchart(key) {\n",
              "      const quickchartButtonEl =\n",
              "        document.querySelector('#' + key + ' button');\n",
              "      quickchartButtonEl.disabled = true;  // To prevent multiple clicks.\n",
              "      quickchartButtonEl.classList.add('colab-df-spinner');\n",
              "      try {\n",
              "        const charts = await google.colab.kernel.invokeFunction(\n",
              "            'suggestCharts', [key], {});\n",
              "      } catch (error) {\n",
              "        console.error('Error during call to suggestCharts:', error);\n",
              "      }\n",
              "      quickchartButtonEl.classList.remove('colab-df-spinner');\n",
              "      quickchartButtonEl.classList.add('colab-df-quickchart-complete');\n",
              "    }\n",
              "    (() => {\n",
              "      let quickchartButtonEl =\n",
              "        document.querySelector('#df-de9fc8f6-0612-4f10-ba17-74f2691da83c button');\n",
              "      quickchartButtonEl.style.display =\n",
              "        google.colab.kernel.accessAllowed ? 'block' : 'none';\n",
              "    })();\n",
              "  </script>\n",
              "</div>\n",
              "    </div>\n",
              "  </div>\n"
            ]
          },
          "metadata": {},
          "execution_count": 96
        }
      ]
    },
    {
      "cell_type": "code",
      "source": [
        "# Exploratory data analysis\n",
        "print(df.shape)\n",
        "print(df.info())\n",
        "print(df.isnull())"
      ],
      "metadata": {
        "colab": {
          "base_uri": "https://localhost:8080/"
        },
        "id": "bToRyMLR437L",
        "outputId": "1e8bb3fb-fdfd-48b7-8a87-ecdc3b6d2efc"
      },
      "execution_count": 68,
      "outputs": [
        {
          "output_type": "stream",
          "name": "stdout",
          "text": [
            "(61, 6)\n",
            "<class 'pandas.core.frame.DataFrame'>\n",
            "Index: 61 entries, 2019-01-01 to 2023-12-22\n",
            "Data columns (total 6 columns):\n",
            " #   Column     Non-Null Count  Dtype  \n",
            "---  ------     --------------  -----  \n",
            " 0   Open       61 non-null     float64\n",
            " 1   High       61 non-null     float64\n",
            " 2   Low        61 non-null     float64\n",
            " 3   Close      61 non-null     float64\n",
            " 4   Adj Close  61 non-null     float64\n",
            " 5   Volume     61 non-null     int64  \n",
            "dtypes: float64(5), int64(1)\n",
            "memory usage: 3.3+ KB\n",
            "None\n",
            "             Open   High    Low  Close  Adj Close  Volume\n",
            "Date                                                     \n",
            "2019-01-01  False  False  False  False      False   False\n",
            "2019-02-01  False  False  False  False      False   False\n",
            "2019-03-01  False  False  False  False      False   False\n",
            "2019-04-01  False  False  False  False      False   False\n",
            "2019-05-01  False  False  False  False      False   False\n",
            "...           ...    ...    ...    ...        ...     ...\n",
            "2023-09-01  False  False  False  False      False   False\n",
            "2023-10-01  False  False  False  False      False   False\n",
            "2023-11-01  False  False  False  False      False   False\n",
            "2023-12-01  False  False  False  False      False   False\n",
            "2023-12-22  False  False  False  False      False   False\n",
            "\n",
            "[61 rows x 6 columns]\n"
          ]
        }
      ]
    },
    {
      "cell_type": "code",
      "source": [
        "# Visualize the close price\n",
        "plt.figure(figsize = (20, 10))\n",
        "plt.plot(df['Close'])\n",
        "plt.title('ANTM Stock Closing Price', fontsize = 24)\n",
        "plt.xlabel('Month')\n",
        "plt.ylabel('Close Price $USD')\n",
        "plt.tight_layout()\n",
        "plt.show()"
      ],
      "metadata": {
        "colab": {
          "base_uri": "https://localhost:8080/",
          "height": 485
        },
        "id": "l36rIjNK-tmf",
        "outputId": "cd26079f-4aca-4846-d388-a36a6dc9573a"
      },
      "execution_count": 69,
      "outputs": [
        {
          "output_type": "display_data",
          "data": {
            "text/plain": [
              "<Figure size 2000x1000 with 1 Axes>"
            ],
            "image/png": "[encoded data removed]"
          },
          "metadata": {}
        }
      ]
    },
    {
      "cell_type": "code",
      "source": [
        "# Create a new dataframe with only the “Close” column\n",
        "df = df.filter(['Close'])\n"
      ],
      "metadata": {
        "id": "Jq4NF4yX5C4h"
      },
      "execution_count": 27,
      "outputs": []
    },
    {
      "cell_type": "code",
      "source": [
        "# Convert the dataframe to a numpy array\n",
        "dataset = df.values"
      ],
      "metadata": {
        "id": "gw7fK4nH5ItS"
      },
      "execution_count": 28,
      "outputs": []
    },
    {
      "cell_type": "code",
      "source": [
        "# Get the number of rows to train the model, 80% of the dataset\n",
        "training_data_len = math.ceil(len(dataset) * .80)\n",
        "training_data_len"
      ],
      "metadata": {
        "colab": {
          "base_uri": "https://localhost:8080/"
        },
        "id": "2uNLaB4k5LtS",
        "outputId": "35bfe707-937c-416c-f0e3-3079f5b19e1c"
      },
      "execution_count": 29,
      "outputs": [
        {
          "output_type": "execute_result",
          "data": {
            "text/plain": [
              "49"
            ]
          },
          "metadata": {},
          "execution_count": 29
        }
      ]
    },
    {
      "cell_type": "code",
      "source": [
        "# Scaling the dataset\n",
        "def normalize_data(df):\n",
        "    min_max_scaler = sklearn.preprocessing.MinMaxScaler()\n",
        "    df['close'] = min_max_scaler.fit_transform(min_max_scaler.)\n",
        "    return df"
      ],
      "metadata": {
        "id": "Vg8deIctAt9g"
      },
      "execution_count": 35,
      "outputs": []
    },
    {
      "cell_type": "code",
      "source": [
        "# Scaling the dataset\n",
        "min_max_scaler = sklearn.preprocessing.MinMaxScaler()\n",
        "scaled_data = min_max_scaler.fit_transform(df['Close'].values.reshape(-1,1))\n",
        "scaled_data"
      ],
      "metadata": {
        "colab": {
          "base_uri": "https://localhost:8080/"
        },
        "id": "k9DCuDoz5UUx",
        "outputId": "5e716856-a0f0-4ed3-c02e-a70be735ce11"
      },
      "execution_count": 70,
      "outputs": [
        {
          "output_type": "execute_result",
          "data": {
            "text/plain": [
              "array([[0.21548117],\n",
              "       [0.23640167],\n",
              "       [0.18410042],\n",
              "       [0.17364017],\n",
              "       [0.11506276],\n",
              "       [0.16527197],\n",
              "       [0.20292887],\n",
              "       [0.25941423],\n",
              "       [0.21966527],\n",
              "       [0.18410042],\n",
              "       [0.12552301],\n",
              "       [0.16317992],\n",
              "       [0.11297071],\n",
              "       [0.05230126],\n",
              "       [0.        ],\n",
              "       [0.0251046 ],\n",
              "       [0.03556485],\n",
              "       [0.06485356],\n",
              "       [0.11715481],\n",
              "       [0.15481172],\n",
              "       [0.10669456],\n",
              "       [0.25313808],\n",
              "       [0.29079498],\n",
              "       [0.62133891],\n",
              "       [0.74058577],\n",
              "       [1.        ],\n",
              "       [0.75313808],\n",
              "       [0.85355649],\n",
              "       [0.83682008],\n",
              "       [0.77405858],\n",
              "       [0.86610879],\n",
              "       [0.81171548],\n",
              "       [0.76987448],\n",
              "       [0.79079498],\n",
              "       [0.77405858],\n",
              "       [0.75313808],\n",
              "       [0.55230126],\n",
              "       [0.74058577],\n",
              "       [0.83263598],\n",
              "       [0.89958159],\n",
              "       [0.86192469],\n",
              "       [0.56485356],\n",
              "       [0.62970711],\n",
              "       [0.64435146],\n",
              "       [0.62343096],\n",
              "       [0.58368201],\n",
              "       [0.64225941],\n",
              "       [0.64225941],\n",
              "       [0.77824268],\n",
              "       [0.64435146],\n",
              "       [0.68619247],\n",
              "       [0.69037657],\n",
              "       [0.60460251],\n",
              "       [0.62761506],\n",
              "       [0.64225941],\n",
              "       [0.64435146],\n",
              "       [0.57112971],\n",
              "       [0.5251046 ],\n",
              "       [0.53974895],\n",
              "       [0.4958159 ],\n",
              "       [0.5083682 ]])"
            ]
          },
          "metadata": {},
          "execution_count": 70
        }
      ]
    },
    {
      "cell_type": "code",
      "source": [
        "# x_train is independent variable, y_train is dependentt variable\n",
        "x_train = []\n",
        "y_train = []"
      ],
      "metadata": {
        "id": "E6meCvxSOFlz"
      },
      "execution_count": 111,
      "outputs": []
    },
    {
      "cell_type": "code",
      "source": [
        "# First pass through x_train will contain 60 data indexed 0 to 59\n",
        "# Then y_train for the pass through will contain 1data indexed 60\n",
        "for i in range(60, len(train_data)):\n",
        "    x_train.append(train_data[i-60:i, 0])\n",
        "    y_train.append(train_data[i, 0])\n",
        "    if i <= 61:\n",
        "    print(x_train)\n",
        "    print(y_train)"
      ],
      "metadata": {
        "colab": {
          "base_uri": "https://localhost:8080/",
          "height": 140
        },
        "id": "8NcIxV88N-o1",
        "outputId": "f41cb545-0b4b-4ec7-f6bd-f189e2210032"
      },
      "execution_count": 113,
      "outputs": [
        {
          "output_type": "error",
          "ename": "IndentationError",
          "evalue": "ignored",
          "traceback": [
            "\u001b[0;36m  File \u001b[0;32m\"<ipython-input-113-05b6619e621e>\"\u001b[0;36m, line \u001b[0;32m2\u001b[0m\n\u001b[0;31m    x_train.append(train_data[i-60:i, 0])\u001b[0m\n\u001b[0m    ^\u001b[0m\n\u001b[0;31mIndentationError\u001b[0m\u001b[0;31m:\u001b[0m expected an indented block after 'for' statement on line 1\n"
          ]
        }
      ]
    },
    {
      "cell_type": "code",
      "source": [
        "# Convert the x_train and y_train to numpy array\n",
        "x_train, y_train = np.array(x_train), np.array(y_train)\n",
        "\n",
        "# Reshape the dataset\n",
        "# LSTM network expect to be 3 dimentional input\n",
        "# Shape:(number of samples, number of time steps, number of feature)\n",
        "x_train=np.reshape(x_train, (x_train.shape[0], x_train.shape[1],1))"
      ],
      "metadata": {
        "colab": {
          "base_uri": "https://localhost:8080/",
          "height": 210
        },
        "id": "SxtWBa8d5ofl",
        "outputId": "54998327-d47d-452e-990a-0eba1b8184a6"
      },
      "execution_count": 74,
      "outputs": [
        {
          "output_type": "error",
          "ename": "IndexError",
          "evalue": "ignored",
          "traceback": [
            "\u001b[0;31m---------------------------------------------------------------------------\u001b[0m",
            "\u001b[0;31mIndexError\u001b[0m                                Traceback (most recent call last)",
            "\u001b[0;32m<ipython-input-74-0936d1a0eab8>\u001b[0m in \u001b[0;36m<cell line: 7>\u001b[0;34m()\u001b[0m\n\u001b[1;32m      5\u001b[0m \u001b[0;31m# LSTM network expect to be 3 dimentional input\u001b[0m\u001b[0;34m\u001b[0m\u001b[0;34m\u001b[0m\u001b[0m\n\u001b[1;32m      6\u001b[0m \u001b[0;31m# Shape:(number of samples, number of time steps, number of feature)\u001b[0m\u001b[0;34m\u001b[0m\u001b[0;34m\u001b[0m\u001b[0m\n\u001b[0;32m----> 7\u001b[0;31m \u001b[0mx_train\u001b[0m\u001b[0;34m=\u001b[0m\u001b[0mnp\u001b[0m\u001b[0;34m.\u001b[0m\u001b[0mreshape\u001b[0m\u001b[0;34m(\u001b[0m\u001b[0mx_train\u001b[0m\u001b[0;34m,\u001b[0m \u001b[0;34m(\u001b[0m\u001b[0mx_train\u001b[0m\u001b[0;34m.\u001b[0m\u001b[0mshape\u001b[0m\u001b[0;34m[\u001b[0m\u001b[0;36m0\u001b[0m\u001b[0;34m]\u001b[0m\u001b[0;34m,\u001b[0m \u001b[0mx_train\u001b[0m\u001b[0;34m.\u001b[0m\u001b[0mshape\u001b[0m\u001b[0;34m[\u001b[0m\u001b[0;36m1\u001b[0m\u001b[0;34m]\u001b[0m\u001b[0;34m,\u001b[0m\u001b[0;36m1\u001b[0m\u001b[0;34m)\u001b[0m\u001b[0;34m)\u001b[0m\u001b[0;34m\u001b[0m\u001b[0;34m\u001b[0m\u001b[0m\n\u001b[0m",
            "\u001b[0;31mIndexError\u001b[0m: tuple index out of range"
          ]
        }
      ]
    },
    {
      "cell_type": "code",
      "source": [
        "# Build the LSTM model\n",
        "model = Sequential()\n",
        "model.add(LSTM(50, return_sequences = True, input_shape = (\n",
        "X_train.shape[1], 1)))\n",
        "model.add(LSTM(50, return_sequences = False))\n",
        "model.add(Dense(25))\n",
        "model.add(Dense(1))"
      ],
      "metadata": {
        "id": "VHi2pY9y5wr9"
      },
      "execution_count": null,
      "outputs": []
    },
    {
      "cell_type": "code",
      "source": [
        "# Compile the LSTM model\n",
        "model.compile(optimizer = ‘adam’, loss = ‘mean_squared_error’)"
      ],
      "metadata": {
        "id": "YAXDuY2Z50vm"
      },
      "execution_count": null,
      "outputs": []
    },
    {
      "cell_type": "code",
      "source": [
        "# Training the LSTM model\n",
        "model.fit(x_train, y_train, batch_size = 1, epochs = 3)"
      ],
      "metadata": {
        "id": "EVJcPtan54tK"
      },
      "execution_count": null,
      "outputs": []
    },
    {
      "cell_type": "code",
      "source": [
        "# Create testing dataset\n",
        "# Create new array containing scaled value for testing dataset\n",
        "test_data = scaled[training_data_len - 60:, :]\n",
        "# Create the dataset x_test and y_test\n",
        "x_test = []\n",
        "y_test = dataset[training_data_len:, :]\n",
        "for i in range(60, lne(test_data)):\n",
        "x_test_append(test_data[i-60:i, 0])"
      ],
      "metadata": {
        "id": "-XAZFFoB6IH4"
      },
      "execution_count": null,
      "outputs": []
    },
    {
      "cell_type": "code",
      "source": [
        "# Convert the data to numpy array\n",
        "x_test = np.array(x_test)"
      ],
      "metadata": {
        "id": "D4gXGkrB6N_A"
      },
      "execution_count": null,
      "outputs": []
    },
    {
      "cell_type": "code",
      "source": [
        "# Reshape the dataset\n",
        "# LSTM network expect to be 3 dimentional input\n",
        "# Shape:(number of samples, number of time steps, number of feature)\n",
        "x_test = np.reshapee(x_test, (x_test.shape[0], x_test.shape[1],1))\n",
        "x_test.shape"
      ],
      "metadata": {
        "id": "AbZSNFu36RjV"
      },
      "execution_count": null,
      "outputs": []
    },
    {
      "cell_type": "code",
      "source": [
        "# Predict the LSTM model\n",
        "lstm_prediction = model.predict(x_test)"
      ],
      "metadata": {
        "id": "Kl8RWBXB6X6k"
      },
      "execution_count": null,
      "outputs": []
    },
    {
      "cell_type": "code",
      "source": [
        "inverse the scaling data\n",
        "lstm_prediction = scaler.inverse_transform(lstm_prediction)"
      ],
      "metadata": {
        "id": "hYzvg9wL6bcg"
      },
      "execution_count": null,
      "outputs": []
    }
  ],
  "metadata": {
    "colab": {
      "provenance": [],
      "authorship_tag": "ABX9TyM/E05TP1InmcGFzWGfGiUA",
      "include_colab_link": true
    },
    "kernelspec": {
      "display_name": "Python 3",
      "name": "python3"
    },
    "language_info": {
      "name": "python"
    }
  },
  "nbformat": 4,
  "nbformat_minor": 0
}